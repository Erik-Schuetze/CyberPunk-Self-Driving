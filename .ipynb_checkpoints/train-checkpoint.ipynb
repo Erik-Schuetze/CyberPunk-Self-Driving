{
 "cells": [
  {
   "cell_type": "code",
   "execution_count": null,
   "metadata": {},
   "outputs": [],
   "source": [
    "import cv2\n",
    "import os\n",
    "import numpy as np\n",
    "import gc\n",
    "\n",
    "folder_path = \"F:/CyberAI/\"\n",
    "\n",
    "input_path = folder_path + \"raw_data/\"\n",
    "output_path = folder_path + \"small_data/\"\n",
    "\n",
    "i = 0\n",
    "first_file = 0\n",
    "last_file = 11204\n",
    "\n",
    "report_steps = 1000\n",
    "gc_steps = 1000\n",
    "\n",
    "new_size = (256, 256)\n",
    "\n",
    "for filename in os.listdir(input_path)[first_file:last_file]:\n",
    "    i += 1\n",
    "    if i % report_steps == 0: \n",
    "        print(i)\n",
    "        if i % gc_steps == 0:\n",
    "            gc.collect()\n",
    "        \n",
    "    img = cv2.imread(os.path.join(input_path, filename))\n",
    "    img = cv2.resize(img, new_size)\n",
    "    cv2.imwrite(output_path + filename, img) "
   ]
  },
  {
   "cell_type": "code",
   "execution_count": null,
   "metadata": {},
   "outputs": [],
   "source": [
    "folder_path = \"F:/CyberAI/\""
   ]
  },
  {
   "cell_type": "code",
   "execution_count": null,
   "metadata": {},
   "outputs": [],
   "source": [
    "import gc\n",
    "gc.collect()"
   ]
  },
  {
   "cell_type": "code",
   "execution_count": null,
   "metadata": {},
   "outputs": [],
   "source": [
    "# size of image array\n",
    "\n",
    "x1 = 256\n",
    "y1 = 256"
   ]
  },
  {
   "cell_type": "code",
   "execution_count": null,
   "metadata": {},
   "outputs": [],
   "source": [
    "import cv2\n",
    "import os\n",
    "import numpy as np\n",
    "\n",
    "data_path = folder_path + \"small_data/\"\n",
    "\n",
    "\n",
    "images_normal = []\n",
    "images_mirrored = []\n",
    "\n",
    "wheel_normal = []\n",
    "wheel_mirrored = []\n",
    "\n",
    "# mirror data set to double it and remove directional bias (e.g. always turning left on a round track)\n",
    "\n",
    "i = 0\n",
    "for filename in os.listdir(data_path):#[10_000:30_000]:\n",
    "    i += 1\n",
    "    if i % report_steps == 0: \n",
    "        print(i)\n",
    "    if i % 1 == 0: \n",
    "        img = cv2.imread(os.path.join(data_path,filename))\n",
    "        img = np.array(img,dtype=np.uint8)\n",
    "        # uint can also be float32, float16 etc\n",
    "        if img is not None:\n",
    "            # parse img and filename into data\n",
    "            data = np.array(filename.replace(\".jpg\",\"\").split(\"_\")[-3:],dtype=np.float32)\n",
    "            # if abs(data[0]) < 0.5:  -  if betrag von data kleiner als (extreme auslassen)\n",
    "            \n",
    "            images_normal.append(img/1)\n",
    "            wheel_normal.append(float(data[0]))\n",
    "\n",
    "            images_mirrored.append(cv2.flip(img, 1))\n",
    "            wheel_mirrored.append(float(data[0]*-1))\n",
    "            # \"cv2.flip\" -> mirroring, wheel * -1\n",
    "            \n",
    "# print(wheel_normal)"
   ]
  },
  {
   "cell_type": "code",
   "execution_count": null,
   "metadata": {},
   "outputs": [],
   "source": [
    "image_set = []\n",
    "wheel_set = []\n",
    "\n",
    "for i in range(len(wheel_normal)-1):\n",
    "    try:\n",
    "        wheel_set.append((0.5*wheel_normal[i-1]+wheel_normal[i]+0.5*wheel_normal[i+1])/2)\n",
    "    except: \n",
    "        print(\"fuck\")\n",
    "for i in range(len(wheel_mirrored)-1):\n",
    "    try:\n",
    "        wheel_set.append((0.5*wheel_mirrored[i-1]+wheel_mirrored[i]+0.5*wheel_mirrored[i+1])/2)    \n",
    "    except: \n",
    "        print(\"fuck\")\n",
    "        \n",
    "image_set = images_normal[1:] + images_mirrored[1:]"
   ]
  },
  {
   "cell_type": "code",
   "execution_count": null,
   "metadata": {},
   "outputs": [],
   "source": [
    "import random\n",
    "import gc\n",
    "\n",
    "shuffled_set = list(zip(image_set, wheel_set))\n",
    "random.shuffle(shuffled_set)\n",
    "image_set, wheel_set = zip(*shuffled_set)\n",
    "\n",
    "gc.collect()\n",
    "\n",
    "# print(str(image_set[0]) + \", \" + str(wheel_set[0]))"
   ]
  },
  {
   "cell_type": "code",
   "execution_count": null,
   "metadata": {},
   "outputs": [],
   "source": [
    "import numpy as np\n",
    "import copy\n",
    "import gc\n",
    "\n",
    "# macht array draus. Weil Tensorflow komishc ist und keine Listen kann\n",
    "wheel_set = np.array(wheel_set).reshape(-1,1)\n",
    "image_set = np.array(image_set,dtype=np.float32)\n",
    "\n",
    "print(\"FORMATING DONE\")"
   ]
  },
  {
   "cell_type": "code",
   "execution_count": null,
   "metadata": {},
   "outputs": [],
   "source": [
    "print(np.min(wheel_set))\n",
    "print(np.max(wheel_set))\n",
    "print(np.min(image_set))\n",
    "print(np.max(image_set))"
   ]
  },
  {
   "cell_type": "code",
   "execution_count": null,
   "metadata": {},
   "outputs": [],
   "source": [
    "gc.collect()\n",
    "print(wheel_set.shape)\n",
    "print(image_set.shape)\n",
    "gc.collect()"
   ]
  },
  {
   "cell_type": "code",
   "execution_count": null,
   "metadata": {},
   "outputs": [],
   "source": [
    "import tensorflow as tf\n",
    "from tensorflow import keras\n",
    "from tensorflow.keras.models import Sequential\n",
    "from tensorflow.keras.layers import Activation,Input, Dense, Flatten,Concatenate,UpSampling2D, BatchNormalization, Conv2D, Conv3D, MaxPooling2D, MaxPooling3D,Reshape, Reshape, Permute\n",
    "from tensorflow.keras.optimizers import Adam,Adadelta \n",
    "from tensorflow.keras.metrics import MeanSquaredError, Accuracy\n",
    "from tensorflow.keras.losses import huber\n",
    "from tensorflow.keras.models import Model"
   ]
  },
  {
   "cell_type": "code",
   "execution_count": null,
   "metadata": {},
   "outputs": [],
   "source": [
    "input1 = keras.layers.Input(shape=(y1,x1,3))\n",
    "\n",
    "Y = Conv2D(16, (3,3),padding = 'valid')(input1)\n",
    "Y = MaxPooling2D(pool_size=(2, 2), padding='valid')(Y)\n",
    "\n",
    "Y = Conv2D(32, (3,3),padding = 'valid')(Y)\n",
    "Y = MaxPooling2D(pool_size=(2, 2), padding='valid')(Y)\n",
    "\n",
    "Y = Conv2D(64, (3,3),padding = 'valid')(Y)\n",
    "Y = MaxPooling2D(pool_size=(2, 2), padding='valid')(Y)\n",
    "\n",
    "Y = Conv2D(128, (3,3),padding = 'valid')(Y)\n",
    "\n",
    "Y = Conv2D(1, (3,3),padding = 'valid')(Y)\n",
    "\n",
    "Y = Flatten()(Y)\n",
    "\n",
    "Z = Dense(1)(Y)\n",
    "\n",
    "\n",
    "model = keras.models.Model(input1,Z)\n",
    "#X = Dense(16)(X)\n",
    "#Y = Conv2D(32, (5,5),padding = 'valid')(Y)\n",
    "#Y = MaxPooling2D(pool_size=(2, 2), padding='valid')(Y)"
   ]
  },
  {
   "cell_type": "code",
   "execution_count": null,
   "metadata": {},
   "outputs": [],
   "source": [
    "model.compile(optimizer=Adam(learning_rate=0.0002), loss='mean_squared_error', metrics=['mean_absolute_error', 'mean_squared_error'])"
   ]
  },
  {
   "cell_type": "code",
   "execution_count": null,
   "metadata": {},
   "outputs": [],
   "source": [
    "model.fit(image_set, wheel_set, batch_size=1, epochs=10, validation_split=0.10, verbose=1)#,callbacks=[tensorboard])"
   ]
  },
  {
   "cell_type": "code",
   "execution_count": null,
   "metadata": {},
   "outputs": [],
   "source": [
    "model_path = folder_path + \"AI1.model\"\n",
    "\n",
    "model.save(model_path)"
   ]
  },
  {
   "cell_type": "code",
   "execution_count": null,
   "metadata": {},
   "outputs": [],
   "source": [
    "# start here if youre just using the model\n",
    "\n",
    "model_path = folder_path + \"AI1.model\"\n",
    "\n",
    "model = tf.keras.models.load_model(model_path)"
   ]
  },
  {
   "cell_type": "code",
   "execution_count": null,
   "metadata": {},
   "outputs": [],
   "source": [
    "def axiconvertion(angle):\n",
    "    angle = (((angle)+1)/2)*33280\n",
    "    #median = int(33280//2 + 5000)\n",
    "    #angle  = 1 * angle\n",
    "    #if angle >= 0:\n",
    "    #    Axis = median + 3*angle* (33280-median)\n",
    "    #else:\n",
    "    #    Axis = median + angle*median\n",
    "    \n",
    "    return int(angle)"
   ]
  },
  {
   "cell_type": "code",
   "execution_count": null,
   "metadata": {},
   "outputs": [],
   "source": [
    "import pyvjoy\n",
    "\n",
    "#Pythonic API, item-at-a-time\n",
    "\n",
    "j = pyvjoy.VJoyDevice(1)\n",
    "\n",
    "#turn button number 15 on\n",
    "j.set_button(2,1)\n",
    "\n",
    "#Notice the args are (buttonID,state) whereas vJoy's native API is the other way around.\n",
    "\n",
    "\n",
    "#turn button 15 off again\n",
    "j.set_button(2,0)\n",
    "\n",
    "#Set X axis to fully left\n",
    "j.set_axis(pyvjoy.HID_USAGE_X, 0x1)\n",
    "\n",
    "#Set X axis to fully right\n",
    "j.set_axis(pyvjoy.HID_USAGE_X, 0x8000)\n",
    "\n",
    "#Also implemented:\n",
    "\n",
    "j.reset()\n",
    "j.reset_buttons()\n",
    "j.reset_povs()\n",
    "\n",
    "\n",
    "\n",
    "#The 'efficient' method as described in vJoy's docs - set multiple values at once\n",
    "\n",
    "j.data\n",
    "\n",
    "\n",
    "\n",
    "j.data.lButtons = 19 # buttons number 1,2 and 5 (1+2+16)\n",
    "j.data.wAxisX = 0x200 \n",
    "j.data.wAxisY= 0x3a15\n",
    "\n",
    "#send data to vJoy device\n",
    "j.update()\n",
    "\n",
    "\n",
    "#Lower-level API just wraps the functions in the DLL as thinly as possible, with some attempt to raise exceptions instead of return codes."
   ]
  },
  {
   "cell_type": "code",
   "execution_count": null,
   "metadata": {},
   "outputs": [],
   "source": [
    "import time\n",
    "from mss import mss\n",
    "import cv2\n",
    "import numpy as np\n",
    "import copy\n",
    "\n",
    "\n",
    "cords = {'top':32-1080 , 'left': 0 , 'width':1280  , 'height':1024}\n",
    "sct = mss()\n",
    "frames = []\n",
    "smoothwheel = 0\n",
    "\n",
    "    \n",
    "while True:\n",
    "\n",
    "    frame = (np.array(sct.grab(cords))[:,:,:3])\n",
    "    frame = cv2.resize(frame, (x1,y1))\n",
    "    #frame = cv2.cvtColor(frame, cv2.COLOR_BGR2RGB)\n",
    "    \n",
    "    frame = cv2.resize(frame, (x1,y1)).reshape(1,y1,x1,3)\n",
    "    frame = np.array(frame)\n",
    "    \n",
    "\n",
    "\n",
    "    prediction = np.average(model.predict(frame)*1)\n",
    "    smoothwheel = 0.3 * prediction + 0.7*smoothwheel\n",
    "    \n",
    "    wheel = axiconvertion(prediction)\n",
    "    j.set_axis(pyvjoy.HID_USAGE_X, int(wheel))\n",
    "    j.set_axis(pyvjoy.HID_USAGE_Z, int(4000))\n",
    "    \n",
    "\n",
    "    showframe = copy.deepcopy(frame).reshape(y1,x1,3)\n",
    "    showframe = cv2.line(showframe, (x1//2, y1),(x1//2,0), (255, 255, 255), thickness=1)\n",
    "    showframe = cv2.line(showframe, (x1//2, y1), (x1//2+int(smoothwheel*200), int(50+(smoothwheel**2)*100)), (255, 0, 255), thickness=1)\n",
    "    showframe = cv2.line(showframe, (x1//2, y1), (x1//2+int(prediction*200), int(50+(prediction**2)*100)), (255, 255, 0), thickness=2)\n",
    "    showframe = cv2.resize(showframe, (3*x1,3*y1))\n",
    "    showframe = cv2.putText(np.array(showframe,dtype=np.uint8), str(prediction), (40, 40), cv2.FONT_HERSHEY_SIMPLEX , 1, (255,0,255), 3)  \n",
    "    \n",
    "    cv2.imshow(\"showframe\", showframe)  \n",
    "    #cv2.imshow(\"new_img\", new_img)  \n",
    "\n",
    "\n",
    "    if cv2.waitKey(25) & 0xFF == ord('q'):\n",
    "        cv2.destroyAllWindows()\n",
    "        break"
   ]
  },
  {
   "cell_type": "code",
   "execution_count": null,
   "metadata": {},
   "outputs": [],
   "source": [
    "import time\n",
    "\n",
    "while True:\n",
    "    #j.set_axis(pyvjoy.HID_USAGE_Y, int(33280//2 + 5000))\n",
    "    j.set_axis(pyvjoy.HID_USAGE_Y, 0)\n",
    "    time.sleep(1)\n",
    "    j.set_axis(pyvjoy.HID_USAGE_Y, 33280)\n",
    "    time.sleep(1)\n",
    "    #j.update()\n",
    "\n",
    "#send data to vJoy device\n",
    "j.update()"
   ]
  }
 ],
 "metadata": {
  "kernelspec": {
   "display_name": "Python 3",
   "language": "python",
   "name": "python3"
  },
  "language_info": {
   "codemirror_mode": {
    "name": "ipython",
    "version": 3
   },
   "file_extension": ".py",
   "mimetype": "text/x-python",
   "name": "python",
   "nbconvert_exporter": "python",
   "pygments_lexer": "ipython3",
   "version": "3.8.3"
  }
 },
 "nbformat": 4,
 "nbformat_minor": 4
}
