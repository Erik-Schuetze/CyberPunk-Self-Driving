{
 "cells": [
  {
   "cell_type": "code",
   "execution_count": 1,
   "metadata": {},
   "outputs": [],
   "source": [
    "import tensorflow as tf\n",
    "from tensorflow import keras\n",
    "from tensorflow.keras.models import Sequential\n",
    "from tensorflow.keras.layers import Activation,Input, Dense, Flatten,Concatenate,UpSampling2D, BatchNormalization, Conv2D, Conv3D, MaxPooling2D, MaxPooling3D,Reshape, Reshape, Permute\n",
    "from tensorflow.keras.optimizers import Adam,Adadelta \n",
    "from tensorflow.keras.metrics import MeanSquaredError, Accuracy\n",
    "from tensorflow.keras.losses import huber\n",
    "from tensorflow.keras.models import Model\n",
    "import numpy as np\n",
    "import copy\n",
    "import gc\n",
    "import cv2\n",
    "import os"
   ]
  },
  {
   "cell_type": "code",
   "execution_count": 2,
   "metadata": {},
   "outputs": [],
   "source": [
    "# size of image array\n",
    "\n",
    "folder_path = \"F:/CyberAI/\"\n",
    "\n",
    "x1 = 256\n",
    "y1 = 256"
   ]
  },
  {
   "cell_type": "code",
   "execution_count": 3,
   "metadata": {},
   "outputs": [],
   "source": [
    "model_path = folder_path + \"AI1.model\"\n",
    "\n",
    "model = tf.keras.models.load_model(model_path)"
   ]
  },
  {
   "cell_type": "code",
   "execution_count": 4,
   "metadata": {},
   "outputs": [],
   "source": [
    "def axiconvertion(angle):\n",
    "    angle = (((angle)+1)/2)*33280\n",
    "    #median = int(33280//2 + 5000)\n",
    "    #angle  = 1 * angle\n",
    "    #if angle >= 0:\n",
    "    #    Axis = median + 3*angle* (33280-median)\n",
    "    #else:\n",
    "    #    Axis = median + angle*median\n",
    "    \n",
    "    return int(angle)"
   ]
  },
  {
   "cell_type": "code",
   "execution_count": 5,
   "metadata": {},
   "outputs": [
    {
     "data": {
      "text/plain": [
       "1"
      ]
     },
     "execution_count": 5,
     "metadata": {},
     "output_type": "execute_result"
    }
   ],
   "source": [
    "import pyvjoy\n",
    "\n",
    "#Pythonic API, item-at-a-time\n",
    "\n",
    "j = pyvjoy.VJoyDevice(1)\n",
    "\n",
    "#turn button number 15 on\n",
    "j.set_button(2,1)\n",
    "\n",
    "#Notice the args are (buttonID,state) whereas vJoy's native API is the other way around.\n",
    "\n",
    "\n",
    "#turn button 15 off again\n",
    "j.set_button(2,0)\n",
    "\n",
    "#Set X axis to fully left\n",
    "j.set_axis(pyvjoy.HID_USAGE_X, 0x1)\n",
    "\n",
    "#Set X axis to fully right\n",
    "j.set_axis(pyvjoy.HID_USAGE_X, 0x8000)\n",
    "\n",
    "#Also implemented:\n",
    "\n",
    "j.reset()\n",
    "j.reset_buttons()\n",
    "j.reset_povs()\n",
    "\n",
    "\n",
    "\n",
    "#The 'efficient' method as described in vJoy's docs - set multiple values at once\n",
    "\n",
    "j.data\n",
    "\n",
    "\n",
    "\n",
    "j.data.lButtons = 19 # buttons number 1,2 and 5 (1+2+16)\n",
    "j.data.wAxisX = 0x200 \n",
    "j.data.wAxisY= 0x3a15\n",
    "\n",
    "#send data to vJoy device\n",
    "j.update()\n",
    "\n",
    "\n",
    "#Lower-level API just wraps the functions in the DLL as thinly as possible, with some attempt to raise exceptions instead of return codes."
   ]
  },
  {
   "cell_type": "code",
   "execution_count": 8,
   "metadata": {},
   "outputs": [],
   "source": [
    "import time\n",
    "from mss import mss\n",
    "import cv2\n",
    "import numpy as np\n",
    "import copy\n",
    "\n",
    "\n",
    "cords = {'top':32-1080 , 'left': 0 , 'width':1280  , 'height':1024}\n",
    "sct = mss()\n",
    "frames = []\n",
    "smoothwheel = 0\n",
    "\n",
    "    \n",
    "while True:\n",
    "\n",
    "    frame = (np.array(sct.grab(cords))[:,:,:3])\n",
    "    frame = cv2.resize(frame, (x1,y1))\n",
    "    #frame = cv2.cvtColor(frame, cv2.COLOR_BGR2RGB)\n",
    "    \n",
    "    frame = cv2.resize(frame, (x1,y1)).reshape(1,y1,x1,3)\n",
    "    frame = np.array(frame)\n",
    "    \n",
    "\n",
    "\n",
    "    prediction = np.average(model.predict(frame)*1)\n",
    "    smoothwheel = 0.7 * prediction + 0.3*smoothwheel\n",
    "    \n",
    "    wheel = axiconvertion(smoothwheel)\n",
    "    j.set_axis(pyvjoy.HID_USAGE_X, int(wheel))\n",
    "    j.set_axis(pyvjoy.HID_USAGE_Z, int(4000))\n",
    "    \n",
    "\n",
    "    showframe = copy.deepcopy(frame).reshape(y1,x1,3)\n",
    "    showframe = cv2.line(showframe, (x1//2, y1),(x1//2,0), (255, 255, 255), thickness=1)\n",
    "    showframe = cv2.line(showframe, (x1//2, y1), (x1//2+int(smoothwheel*200), int(50+(smoothwheel**2)*100)), (255, 0, 255), thickness=1)\n",
    "    showframe = cv2.line(showframe, (x1//2, y1), (x1//2+int(prediction*200), int(50+(prediction**2)*100)), (255, 255, 0), thickness=2)\n",
    "    showframe = cv2.resize(showframe, (3*x1,3*y1))\n",
    "    showframe = cv2.putText(np.array(showframe,dtype=np.uint8), str(prediction), (40, 40), cv2.FONT_HERSHEY_SIMPLEX , 1, (255,0,255), 3)  \n",
    "    \n",
    "    cv2.imshow(\"showframe\", showframe)  \n",
    "    #cv2.imshow(\"new_img\", new_img)  \n",
    "\n",
    "\n",
    "    if cv2.waitKey(25) & 0xFF == ord('q'):\n",
    "        cv2.destroyAllWindows()\n",
    "        break"
   ]
  },
  {
   "cell_type": "code",
   "execution_count": null,
   "metadata": {},
   "outputs": [],
   "source": [
    "import time\n",
    "\n",
    "while True:\n",
    "    #j.set_axis(pyvjoy.HID_USAGE_Y, int(33280//2 + 5000))\n",
    "    j.set_axis(pyvjoy.HID_USAGE_Y, 0)\n",
    "    time.sleep(1)\n",
    "    j.set_axis(pyvjoy.HID_USAGE_Y, 33280)\n",
    "    time.sleep(1)\n",
    "    #j.update()\n",
    "\n",
    "#send data to vJoy device\n",
    "j.update()"
   ]
  }
 ],
 "metadata": {
  "kernelspec": {
   "display_name": "Python 3",
   "language": "python",
   "name": "python3"
  },
  "language_info": {
   "codemirror_mode": {
    "name": "ipython",
    "version": 3
   },
   "file_extension": ".py",
   "mimetype": "text/x-python",
   "name": "python",
   "nbconvert_exporter": "python",
   "pygments_lexer": "ipython3",
   "version": "3.8.3"
  }
 },
 "nbformat": 4,
 "nbformat_minor": 4
}
