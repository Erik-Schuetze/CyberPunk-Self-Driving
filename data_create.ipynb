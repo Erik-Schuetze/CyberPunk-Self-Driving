{
 "cells": [
  {
   "cell_type": "code",
   "execution_count": 9,
   "metadata": {},
   "outputs": [
    {
     "name": "stdout",
     "output_type": "stream",
     "text": [
      "Name of the joystick:     Xbox 360 Controller\n",
      "Number of axis:           6\n"
     ]
    }
   ],
   "source": [
    "import pygame\n",
    "\n",
    "joystick_id = 0\n",
    "winkel = 0\n",
    "\n",
    "pygame.display.init()\n",
    "pygame.joystick.init()\n",
    "pygame.joystick.Joystick(joystick_id).init()\n",
    "\n",
    "# Prints the joystick's name\n",
    "JoyName = pygame.joystick.Joystick(joystick_id).get_name()\n",
    "print (\"Name of the joystick:     \" + JoyName)\n",
    "\n",
    "# Gets the number of axes\n",
    "JoyAx = pygame.joystick.Joystick(joystick_id).get_numaxes()\n",
    "print (\"Number of axis:           \" + str(JoyAx))"
   ]
  },
  {
   "cell_type": "code",
   "execution_count": null,
   "metadata": {},
   "outputs": [
    {
     "name": "stdout",
     "output_type": "stream",
     "text": [
      "START >>================ \n",
      " ================XX ENDE\n",
      " ================XX ENDE\n",
      "START >>================ \n",
      " ================XX ENDE\n",
      " ================XX ENDE\n",
      "START >>================ \n",
      "START >>================ \n",
      " ================XX ENDE\n",
      " ================XX ENDE\n",
      "START >>================ \n",
      " ================XX ENDE\n",
      " ================XX ENDE\n",
      "START >>================ \n",
      " ================XX ENDE\n"
     ]
    }
   ],
   "source": [
    "import numpy as np\n",
    "import pygame\n",
    "import cv2\n",
    "import glob\n",
    "#from moviepy.editor import VideoFileClip\n",
    "from mss import mss\n",
    "from PIL import Image\n",
    "import time\n",
    "\n",
    "color = (0, 255, 0)\n",
    "cords = {'top':32-1080, 'left': 0, 'width':1280, 'height':1024}\n",
    "\n",
    "sct = mss()\n",
    "previous_frametiming = time.time()\n",
    "frames = 0\n",
    "\n",
    "joystick_id = 0\n",
    "winkel= 0\n",
    "joystick = pygame.joystick.Joystick(joystick_id)\n",
    "capture = False\n",
    "\n",
    "# set buttons for commands\n",
    "# Xbox GamePad: \n",
    "# A = 0, B = 1, X = 2\n",
    "capture_button = 2\n",
    "cancel_button = 1\n",
    "\n",
    "\n",
    "# settings\n",
    "data_path = 'F:/CyberAI/raw_data/'\n",
    "frame_cap = 10\n",
    "\n",
    "while True :\n",
    "    \n",
    "    if joystick.get_button(cancel_button)== 1:\n",
    "        print(\" ================XX ENDE\")\n",
    "        capture = False\n",
    "    if joystick.get_button(capture_button)== 1:\n",
    "        print(\"START >>================ \")\n",
    "        capture = True\n",
    "        \n",
    "    for event in pygame.event.get():\n",
    "        pass\n",
    " \n",
    "    # capture steering-angle, gas, breaks\n",
    "    winkel = round(joystick.get_axis(0),4)\n",
    "    gas = round(1-((joystick.get_axis(1)+1)/2),4)\n",
    "    bremse = round(1-((joystick.get_axis(2)+1)/2),4)\n",
    "    \n",
    "    frame = (np.array(sct.grab(cords))[:,:,:3])\n",
    "        \n",
    "        \n",
    "    #showing frame\n",
    "    showframe = cv2.putText(np.array(frame,dtype=np.uint8), str((int(frames*100)/100.0)), (1100, 40), cv2.FONT_HERSHEY_SIMPLEX , 1, \n",
    "                  (255,0,255), 3)  \n",
    "    #showframe = cv2.putText(np.array(showframe,dtype=np.uint8), str(winkel), (20, 40), cv2.FONT_HERSHEY_SIMPLEX , 1, \n",
    "    #              (220,0,180), 3)  \n",
    "    #showframe = cv2.putText(np.array(showframe,dtype=np.uint8), str(gas), (20, 80), cv2.FONT_HERSHEY_SIMPLEX , 1, \n",
    "    #              (200,0,0), 3)  \n",
    "    #showframe = cv2.putText(np.array(showframe,dtype=np.uint8), str(bremse), (20, 120), cv2.FONT_HERSHEY_SIMPLEX , 1, \n",
    "    #              (0,200,0), 3)  \n",
    "    \n",
    "    showframe = cv2.line(showframe, (1176//2, 720), (1176//2+int(winkel*500), int(300+(winkel**2)*200)), (0, 255, 0), thickness=2)\n",
    "    \n",
    "    # while capturing save JPGs with data in the file name\n",
    "    if capture:\n",
    "        cv2.imwrite(data_path + str(time.time()) + \"_\" + str(winkel) + \"_\" + str(gas) + \"_\" + str(bremse) + \".jpg\", frame) \n",
    "        showframe = cv2.putText(np.array(showframe,dtype=np.uint8), str(\"LIVE\"), (1100, 80), cv2.FONT_HERSHEY_SIMPLEX , 1, (255,0,0), 4)  \n",
    "    \n",
    "    cv2.imshow ('showframe', showframe)\n",
    "    if cv2.waitKey ( 1 ) & 0xff == ord( 'q' ) :\n",
    "        cv2.destroyAllWindows()\n",
    "        break\n",
    "        \n",
    "    # frame assurance  \n",
    "    frames = ( 1./( time.time() - previous_frametiming ))\n",
    "    while frames > frame_cap:\n",
    "        frames = int( 1./( time.time() - previous_frametiming ))\n",
    "    #if frames<10: print(\"SLOW!  \", frames)\n",
    "    previous_frametiming = time.time()  "
   ]
  },
  {
   "cell_type": "code",
   "execution_count": null,
   "metadata": {},
   "outputs": [],
   "source": [
    "import time\n",
    "\n",
    "# print out which button is pressed on the gamepad\n",
    "\n",
    "while True:\n",
    "    for event in pygame.event.get():\n",
    "            pass\n",
    "        \n",
    "    for i in range(11):\n",
    "        if joystick.get_button(i) != 0:\n",
    "            print(i)\n",
    "            time.sleep(0.1)"
   ]
  }
 ],
 "metadata": {
  "kernelspec": {
   "display_name": "Python 3",
   "language": "python",
   "name": "python3"
  },
  "language_info": {
   "codemirror_mode": {
    "name": "ipython",
    "version": 3
   },
   "file_extension": ".py",
   "mimetype": "text/x-python",
   "name": "python",
   "nbconvert_exporter": "python",
   "pygments_lexer": "ipython3",
   "version": "3.8.3"
  }
 },
 "nbformat": 4,
 "nbformat_minor": 5
}
